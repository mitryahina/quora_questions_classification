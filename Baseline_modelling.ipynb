{
  "nbformat": 4,
  "nbformat_minor": 0,
  "metadata": {
    "colab": {
      "name": "Baseline_modelling.ipynb",
      "provenance": [],
      "machine_shape": "hm"
    },
    "kernelspec": {
      "name": "python3",
      "display_name": "Python 3"
    }
  },
  "cells": [
    {
      "cell_type": "code",
      "metadata": {
        "id": "gQmVUNNeZMFA",
        "colab_type": "code",
        "colab": {}
      },
      "source": [
        "!pip install -U -q PyDrive\n",
        "import os\n",
        "from pydrive.auth import GoogleAuth\n",
        "from pydrive.drive import GoogleDrive\n",
        "from google.colab import auth\n",
        "from oauth2client.client import GoogleCredentials\n",
        "\n",
        "auth.authenticate_user()\n",
        "gauth = GoogleAuth()\n",
        "gauth.credentials = GoogleCredentials.get_application_default()\n",
        "drive = GoogleDrive(gauth)"
      ],
      "execution_count": 0,
      "outputs": []
    },
    {
      "cell_type": "code",
      "metadata": {
        "id": "USLyPzMPZT_U",
        "colab_type": "code",
        "colab": {}
      },
      "source": [
        "import pandas as pd\n",
        "f_ = drive.CreateFile({'id': '1UJDXBrLmpfFL1C9mAdxi-klHs48gtHTv'})\n",
        "f_.GetContentFile('train.csv')\n",
        "df = pd.read_csv('train.csv')"
      ],
      "execution_count": 0,
      "outputs": []
    },
    {
      "cell_type": "code",
      "metadata": {
        "id": "qLLdpq3LZgEO",
        "colab_type": "code",
        "colab": {}
      },
      "source": [
        "# Resampling and train-validation split\n",
        "from sklearn.model_selection import train_test_split\n",
        "\n",
        "\n",
        "train_df, val_df = train_test_split(df, test_size=0.05, random_state=42)\n",
        "\n",
        "sample_size = df[df.target == 1].shape[0]\n",
        "train_df = train_df[train_df.target == 1].append(train_df[train_df.target == 0].sample(sample_size * 5, random_state=42)).reset_index()"
      ],
      "execution_count": 0,
      "outputs": []
    },
    {
      "cell_type": "code",
      "metadata": {
        "id": "15kSnP4ubm3G",
        "colab_type": "code",
        "outputId": "67ccb6f7-f46d-447b-f57c-30f5dc5d3afe",
        "colab": {
          "base_uri": "https://localhost:8080/",
          "height": 117
        }
      },
      "source": [
        "import re\n",
        "import nltk\n",
        "\n",
        "nltk.download('punkt')\n",
        "nltk.download('stopwords')\n",
        "nltk.download('wordnet')\n",
        "\n",
        "from nltk.tokenize import word_tokenize\n",
        "from nltk.stem import WordNetLemmatizer, PorterStemmer\n",
        "\n",
        "from nltk.corpus import stopwords\n",
        "stopwords = stopwords.words('english')"
      ],
      "execution_count": 0,
      "outputs": [
        {
          "output_type": "stream",
          "text": [
            "[nltk_data] Downloading package punkt to /root/nltk_data...\n",
            "[nltk_data]   Package punkt is already up-to-date!\n",
            "[nltk_data] Downloading package stopwords to /root/nltk_data...\n",
            "[nltk_data]   Package stopwords is already up-to-date!\n",
            "[nltk_data] Downloading package wordnet to /root/nltk_data...\n",
            "[nltk_data]   Package wordnet is already up-to-date!\n"
          ],
          "name": "stdout"
        }
      ]
    },
    {
      "cell_type": "code",
      "metadata": {
        "id": "je0DpbHVbUy6",
        "colab_type": "code",
        "outputId": "3832f2e9-57f7-47cd-fdf7-20707c8b619b",
        "colab": {
          "base_uri": "https://localhost:8080/",
          "height": 517
        }
      },
      "source": [
        "def filter_numerical(sentence):\n",
        "  return re.sub(r'\\b\\d+(?:\\.\\d+)?\\s+', '', sentence)\n",
        "\n",
        "def remove_punctuation(sentence):\n",
        "    return re.sub(r'[^\\w\\s]', '', sentence)\n",
        "\n",
        "def filter_stopwords(sentence):\n",
        "  return [word for word in sentence if word not in stopwords]\n",
        "\n",
        "def lemmatize_text(sentence):\n",
        "    lemmatizer = WordNetLemmatizer()\n",
        "    return [lemmatizer.lemmatize(word) for word in sentence]\n",
        "\n",
        "def stem_text(sentence):\n",
        "    ps = PorterStemmer()\n",
        "    return [ps.stem(word) for word in sentence]\n",
        "\n",
        "def preprocess_text(df):\n",
        "    df['processed'] = df['question_text'].apply(filter_numerical)\n",
        "    df['processed'] = df['processed'].apply(remove_punctuation)\n",
        "\n",
        "    df['processed'] = df['processed'].apply(word_tokenize)\n",
        "    df['processed'] = df['processed'].apply(filter_stopwords)\n",
        "    df['processed'] = df['processed'].apply(lemmatize_text)\n",
        "    df['processed'] = df['processed'].apply(stem_text)\n",
        "    return df\n",
        "\n",
        "train_df = preprocess_text(train_df)\n",
        "val_df = preprocess_text(val_df)"
      ],
      "execution_count": 0,
      "outputs": [
        {
          "output_type": "stream",
          "text": [
            "/usr/local/lib/python3.6/dist-packages/ipykernel_launcher.py:19: SettingWithCopyWarning: \n",
            "A value is trying to be set on a copy of a slice from a DataFrame.\n",
            "Try using .loc[row_indexer,col_indexer] = value instead\n",
            "\n",
            "See the caveats in the documentation: http://pandas.pydata.org/pandas-docs/stable/user_guide/indexing.html#returning-a-view-versus-a-copy\n",
            "/usr/local/lib/python3.6/dist-packages/ipykernel_launcher.py:20: SettingWithCopyWarning: \n",
            "A value is trying to be set on a copy of a slice from a DataFrame.\n",
            "Try using .loc[row_indexer,col_indexer] = value instead\n",
            "\n",
            "See the caveats in the documentation: http://pandas.pydata.org/pandas-docs/stable/user_guide/indexing.html#returning-a-view-versus-a-copy\n",
            "/usr/local/lib/python3.6/dist-packages/ipykernel_launcher.py:22: SettingWithCopyWarning: \n",
            "A value is trying to be set on a copy of a slice from a DataFrame.\n",
            "Try using .loc[row_indexer,col_indexer] = value instead\n",
            "\n",
            "See the caveats in the documentation: http://pandas.pydata.org/pandas-docs/stable/user_guide/indexing.html#returning-a-view-versus-a-copy\n",
            "/usr/local/lib/python3.6/dist-packages/ipykernel_launcher.py:23: SettingWithCopyWarning: \n",
            "A value is trying to be set on a copy of a slice from a DataFrame.\n",
            "Try using .loc[row_indexer,col_indexer] = value instead\n",
            "\n",
            "See the caveats in the documentation: http://pandas.pydata.org/pandas-docs/stable/user_guide/indexing.html#returning-a-view-versus-a-copy\n",
            "/usr/local/lib/python3.6/dist-packages/ipykernel_launcher.py:24: SettingWithCopyWarning: \n",
            "A value is trying to be set on a copy of a slice from a DataFrame.\n",
            "Try using .loc[row_indexer,col_indexer] = value instead\n",
            "\n",
            "See the caveats in the documentation: http://pandas.pydata.org/pandas-docs/stable/user_guide/indexing.html#returning-a-view-versus-a-copy\n",
            "/usr/local/lib/python3.6/dist-packages/ipykernel_launcher.py:25: SettingWithCopyWarning: \n",
            "A value is trying to be set on a copy of a slice from a DataFrame.\n",
            "Try using .loc[row_indexer,col_indexer] = value instead\n",
            "\n",
            "See the caveats in the documentation: http://pandas.pydata.org/pandas-docs/stable/user_guide/indexing.html#returning-a-view-versus-a-copy\n"
          ],
          "name": "stderr"
        }
      ]
    },
    {
      "cell_type": "markdown",
      "metadata": {
        "id": "PoFMOiqPuE9r",
        "colab_type": "text"
      },
      "source": [
        "## Logistic regresion  over TF-IDF representation\n"
      ]
    },
    {
      "cell_type": "code",
      "metadata": {
        "id": "1NhYiRSjcmXE",
        "colab_type": "code",
        "colab": {}
      },
      "source": [
        "# TF-IDF representation\n",
        "from sklearn.feature_extraction.text import TfidfVectorizer\n",
        "\n",
        "tf_idf_vec = TfidfVectorizer(min_df=3,\n",
        "                             max_features = 20_000,\n",
        "                             analyzer=\"word\",\n",
        "                             ngram_range=(1,3))\n",
        "\n",
        "tf_idf_train = tf_idf_vec.fit_transform(list(train_df[\"processed\"].map(lambda tokens: \" \".join(tokens))))\n",
        "tf_idf_val = tf_idf_vec.transform(list(val_df[\"processed\"].map(lambda tokens: \" \".join(tokens))))"
      ],
      "execution_count": 0,
      "outputs": []
    },
    {
      "cell_type": "code",
      "metadata": {
        "id": "7YG3RJKlunB4",
        "colab_type": "code",
        "colab": {}
      },
      "source": [
        "from sklearn.linear_model import LogisticRegression\n",
        "from sklearn.metrics import confusion_matrix as cm\n",
        "from sklearn.metrics import f1_score\n",
        "\n",
        "lr = LogisticRegression(random_state=42, max_iter=1000)\n",
        "lr.fit(tf_idf_train, train_df.target)\n",
        "pred = lr.predict(tf_idf_val)"
      ],
      "execution_count": 0,
      "outputs": []
    },
    {
      "cell_type": "code",
      "metadata": {
        "id": "WoTFF47RoA0-",
        "colab_type": "code",
        "outputId": "1fe83911-db35-4aea-f894-027b71ea9cec",
        "colab": {
          "base_uri": "https://localhost:8080/",
          "height": 150
        }
      },
      "source": [
        "train_pr = lr.predict(tf_idf_train)\n",
        "\n",
        "print(\"On train set:\")\n",
        "print(cm(train_df.target, train_pr))\n",
        "print(f1_score(train_df.target, train_pr))\n",
        "\n",
        "print(\"On test set:\")\n",
        "print(cm(val_df.target, pred))\n",
        "print(f1_score(val_df.target, pred))"
      ],
      "execution_count": 0,
      "outputs": [
        {
          "output_type": "stream",
          "text": [
            "On train set:\n",
            "[[392219  11831]\n",
            " [ 24435  52433]]\n",
            "0.7430348893234702\n",
            "On test set:\n",
            "[[59363  2002]\n",
            " [ 1288  2654]]\n",
            "0.6173528727611073\n"
          ],
          "name": "stdout"
        }
      ]
    },
    {
      "cell_type": "code",
      "metadata": {
        "id": "Frautb0GecQ-",
        "colab_type": "code",
        "colab": {}
      },
      "source": [
        "# Assumption:fails to generalize because there are too much features\n",
        "from sklearn.decomposition import TruncatedSVD\n",
        "from sklearn.preprocessing import StandardScaler\n",
        "\n",
        "svd = TruncatedSVD(n_components=500, random_state=42)\n",
        "reduced_tf_idf_train = svd.fit_transform(tf_idf_train)\n",
        "reduced_tf_idf_val = svd.transform(tf_idf_val)\n",
        "\n",
        "sc = StandardScaler().fit(reduced_tf_idf_train)\n",
        "reduced_tf_idf_train = sc.transform(reduced_tf_idf_train)\n",
        "reduced_tf_idf_val = sc.transform(reduced_tf_idf_val)"
      ],
      "execution_count": 0,
      "outputs": []
    },
    {
      "cell_type": "code",
      "metadata": {
        "id": "oEJ20l5-fMul",
        "colab_type": "code",
        "outputId": "69c4d9fb-616f-4b19-b2e7-8e510e340d86",
        "colab": {
          "base_uri": "https://localhost:8080/",
          "height": 67
        }
      },
      "source": [
        "lr = LogisticRegression(random_state=42, max_iter=1000)\n",
        "lr.fit(reduced_tf_idf_train, train_df.target)\n",
        "pred = lr.predict(reduced_tf_idf_val)\n",
        "\n",
        "print(cm(val_df.target, pred))\n",
        "print(f1_score(val_df.target, pred))"
      ],
      "execution_count": 0,
      "outputs": [
        {
          "output_type": "stream",
          "text": [
            "[[59133  2232]\n",
            " [ 1794  2148]]\n",
            "0.5162220620043259\n"
          ],
          "name": "stdout"
        }
      ]
    },
    {
      "cell_type": "code",
      "metadata": {
        "id": "70qNqDX19RIk",
        "colab_type": "code",
        "outputId": "f8e61770-fbee-4f10-e868-35a699d16bff",
        "colab": {
          "base_uri": "https://localhost:8080/",
          "height": 117
        }
      },
      "source": [
        "# Adding sentiment feature\n",
        "from textblob import TextBlob\n",
        "\n",
        "train_df['polarity'] = train_df['processed'].map(lambda text: TextBlob(\" \".join(text)).sentiment.polarity)\n",
        "val_df['polarity'] = val_df['processed'].map(lambda text: TextBlob(\" \".join(text)).sentiment.polarity)"
      ],
      "execution_count": 0,
      "outputs": [
        {
          "output_type": "stream",
          "text": [
            "/usr/local/lib/python3.6/dist-packages/ipykernel_launcher.py:4: SettingWithCopyWarning: \n",
            "A value is trying to be set on a copy of a slice from a DataFrame.\n",
            "Try using .loc[row_indexer,col_indexer] = value instead\n",
            "\n",
            "See the caveats in the documentation: http://pandas.pydata.org/pandas-docs/stable/user_guide/indexing.html#returning-a-view-versus-a-copy\n",
            "  after removing the cwd from sys.path.\n"
          ],
          "name": "stderr"
        }
      ]
    },
    {
      "cell_type": "code",
      "metadata": {
        "id": "3oDZXmsW9hsm",
        "colab_type": "code",
        "outputId": "6f315aa7-2c14-4888-d199-2a430eeece5d",
        "colab": {
          "base_uri": "https://localhost:8080/",
          "height": 150
        }
      },
      "source": [
        "from scipy.sparse import hstack\n",
        "import numpy as np\n",
        "\n",
        "lr = LogisticRegression(random_state=42, max_iter=1000)\n",
        "lr.fit(hstack((tf_idf_train ,np.array(train_df['polarity'])[:,None])), train_df.target)\n",
        "pred = lr.predict(hstack((tf_idf_val ,np.array(val_df['polarity'])[:,None])))\n",
        "train_pr = lr.predict(hstack((tf_idf_train ,np.array(train_df['polarity'])[:,None])))\n",
        "\n",
        "print(\"On train set:\")\n",
        "print(cm(train_df.target, train_pr))\n",
        "print(f1_score(train_df.target, train_pr))\n",
        "\n",
        "print(\"On test set:\")\n",
        "print(cm(val_df.target, pred))\n",
        "print(f1_score(val_df.target, pred))"
      ],
      "execution_count": 0,
      "outputs": [
        {
          "output_type": "stream",
          "text": [
            "On train set:\n",
            "[[392197  11853]\n",
            " [ 24439  52429]]\n",
            "0.7428834573149132\n",
            "On test set:\n",
            "[[59365  2000]\n",
            " [ 1288  2654]]\n",
            "0.6174965100046533\n"
          ],
          "name": "stdout"
        }
      ]
    },
    {
      "cell_type": "code",
      "metadata": {
        "id": "d2cvDGE6ElDQ",
        "colab_type": "code",
        "outputId": "b4d167ea-e692-46aa-b3e8-a7c8fb8dd0db",
        "colab": {
          "base_uri": "https://localhost:8080/",
          "height": 117
        }
      },
      "source": [
        "def contains_trigger(text):\n",
        "    # Selected words which are especially frequent w\n",
        "    triggers = ['woman', 'trump', 'like', 'indian', 'muslim', 'american', 'men', \n",
        "                'white', 'black', 'liber', 'hate', 'like', 'support', 'sex', 'kill',\n",
        "                'christian', 'democrat', 'presid', 'believ', 'jew', 'hindu', 'doe',\n",
        "                'gay', 'child', 'donald', 'true', 'evil', 'conservat']\n",
        "    for word in text:\n",
        "      if word in triggers:\n",
        "        return 1\n",
        "    return 0\n",
        "\n",
        "train_df['contains_trigger'] = train_df.processed.apply(contains_trigger)\n",
        "val_df['contains_trigger'] = val_df.processed.apply(contains_trigger)"
      ],
      "execution_count": 0,
      "outputs": [
        {
          "output_type": "stream",
          "text": [
            "/usr/local/lib/python3.6/dist-packages/ipykernel_launcher.py:12: SettingWithCopyWarning: \n",
            "A value is trying to be set on a copy of a slice from a DataFrame.\n",
            "Try using .loc[row_indexer,col_indexer] = value instead\n",
            "\n",
            "See the caveats in the documentation: http://pandas.pydata.org/pandas-docs/stable/user_guide/indexing.html#returning-a-view-versus-a-copy\n",
            "  if sys.path[0] == '':\n"
          ],
          "name": "stderr"
        }
      ]
    },
    {
      "cell_type": "code",
      "metadata": {
        "id": "DeePHr1OKSqf",
        "colab_type": "code",
        "outputId": "3e530d34-5ed2-46b7-9a86-4c9a09de5eb3",
        "colab": {
          "base_uri": "https://localhost:8080/",
          "height": 150
        }
      },
      "source": [
        "lr = LogisticRegression(random_state=42, max_iter=1000)\n",
        "lr.fit(hstack((tf_idf_train ,np.array(train_df['contains_trigger'])[:,None])), train_df.target)\n",
        "pred = lr.predict(hstack((tf_idf_val ,np.array(val_df['contains_trigger'])[:,None])))\n",
        "train_pr = lr.predict(hstack((tf_idf_train ,np.array(train_df['contains_trigger'])[:,None])))\n",
        "\n",
        "print(\"On train set:\")\n",
        "print(cm(train_df.target, train_pr))\n",
        "print(f1_score(train_df.target, train_pr))\n",
        "\n",
        "print(\"On test set:\")\n",
        "print(cm(val_df.target, pred))\n",
        "print(f1_score(val_df.target, pred))"
      ],
      "execution_count": 0,
      "outputs": [
        {
          "output_type": "stream",
          "text": [
            "On train set:\n",
            "[[392015  12035]\n",
            " [ 24087  52781]]\n",
            "0.7450523700629571\n",
            "On test set:\n",
            "[[59313  2052]\n",
            " [ 1286  2656]]\n",
            "0.6141040462427745\n"
          ],
          "name": "stdout"
        }
      ]
    }
  ]
}