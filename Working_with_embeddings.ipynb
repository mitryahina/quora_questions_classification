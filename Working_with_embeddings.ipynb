{
  "nbformat": 4,
  "nbformat_minor": 0,
  "metadata": {
    "colab": {
      "name": "Working_with_embeddings.ipynb",
      "provenance": [],
      "collapsed_sections": [],
      "machine_shape": "hm"
    },
    "kernelspec": {
      "name": "python3",
      "display_name": "Python 3"
    },
    "accelerator": "GPU"
  },
  "cells": [
    {
      "cell_type": "code",
      "metadata": {
        "id": "8TyaZv95F0e0",
        "colab_type": "code",
        "colab": {}
      },
      "source": [
        "!pip install -U -q PyDrive\n",
        "import os\n",
        "from pydrive.auth import GoogleAuth\n",
        "from pydrive.drive import GoogleDrive\n",
        "from google.colab import auth\n",
        "from oauth2client.client import GoogleCredentials\n",
        "\n",
        "auth.authenticate_user()\n",
        "gauth = GoogleAuth()\n",
        "gauth.credentials = GoogleCredentials.get_application_default()\n",
        "drive = GoogleDrive(gauth)"
      ],
      "execution_count": 0,
      "outputs": []
    },
    {
      "cell_type": "code",
      "metadata": {
        "id": "Xzz6-D8wGDST",
        "colab_type": "code",
        "colab": {}
      },
      "source": [
        "import pandas as pd\n",
        "\n",
        "f_ = drive.CreateFile({'id': '1UJDXBrLmpfFL1C9mAdxi-klHs48gtHTv'})\n",
        "f_.GetContentFile('train.csv')\n",
        "df = pd.read_csv('train.csv')"
      ],
      "execution_count": 0,
      "outputs": []
    },
    {
      "cell_type": "code",
      "metadata": {
        "id": "Rs09I7lMWEu0",
        "colab_type": "code",
        "colab": {}
      },
      "source": [
        "# Resampling and train-validation split\n",
        "from sklearn.model_selection import train_test_split\n",
        "\n",
        "\n",
        "train_df, val_df = train_test_split(df, test_size=0.1, random_state=42)"
      ],
      "execution_count": 0,
      "outputs": []
    },
    {
      "cell_type": "code",
      "metadata": {
        "id": "Qj_tlneSOFOF",
        "colab_type": "code",
        "outputId": "bc387dd0-5d3b-477d-9f3d-abc5c7a5b9a7",
        "colab": {
          "base_uri": "https://localhost:8080/",
          "height": 117
        }
      },
      "source": [
        "import re\n",
        "import nltk\n",
        "\n",
        "nltk.download('punkt')\n",
        "nltk.download('stopwords')\n",
        "nltk.download('wordnet')\n",
        "\n",
        "from nltk.tokenize import word_tokenize\n",
        "from nltk.stem import WordNetLemmatizer, PorterStemmer\n",
        "\n",
        "from nltk.corpus import stopwords\n",
        "stopwords = stopwords.words('english')"
      ],
      "execution_count": 0,
      "outputs": [
        {
          "output_type": "stream",
          "text": [
            "[nltk_data] Downloading package punkt to /root/nltk_data...\n",
            "[nltk_data]   Unzipping tokenizers/punkt.zip.\n",
            "[nltk_data] Downloading package stopwords to /root/nltk_data...\n",
            "[nltk_data]   Unzipping corpora/stopwords.zip.\n",
            "[nltk_data] Downloading package wordnet to /root/nltk_data...\n",
            "[nltk_data]   Unzipping corpora/wordnet.zip.\n"
          ],
          "name": "stdout"
        }
      ]
    },
    {
      "cell_type": "code",
      "metadata": {
        "id": "GRQs-O2XOJQY",
        "colab_type": "code",
        "colab": {}
      },
      "source": [
        "# Preprocessing\n",
        "def filter_numerical(sentence):\n",
        "  return re.sub(r'\\b\\d+(?:\\.\\d+)?\\s+', '', sentence)\n",
        "\n",
        "def remove_punctuation(sentence):\n",
        "    return re.sub(r'[^\\w\\s]', '', sentence)\n",
        "\n",
        "def filter_stopwords(sentence):\n",
        "  return [word for word in sentence if word not in stopwords]\n",
        "\n",
        "def lemmatize_text(sentence):\n",
        "    lemmatizer = WordNetLemmatizer()\n",
        "    return [lemmatizer.lemmatize(word) for word in sentence]\n",
        "\n",
        "def stem_text(sentence):\n",
        "    ps = PorterStemmer()\n",
        "    return [ps.stem(word) for word in sentence]\n",
        "\n",
        "def preprocess_text(df):\n",
        "    df['processed'] = df['question_text'].apply(filter_numerical)\n",
        "    df['processed'] = df['processed'].apply(remove_punctuation)\n",
        "    df['processed'] = df['processed'].apply(word_tokenize)\n",
        "    df['processed'] = df['processed'].apply(filter_stopwords)\n",
        "    df['processed'] = df['processed'].apply(lemmatize_text)\n",
        "    df['processed'] = df['processed'].apply(stem_text)\n",
        "    return df\n",
        "\n",
        "train_df = preprocess_text(train_df)\n",
        "val_df = preprocess_text(val_df)"
      ],
      "execution_count": 0,
      "outputs": []
    },
    {
      "cell_type": "code",
      "metadata": {
        "id": "84R8foIUmKMr",
        "colab_type": "code",
        "colab": {}
      },
      "source": [
        "train_df['question_len'] = train_df.processed.apply(len)\n",
        "val_df['question_len'] = val_df.processed.apply(len)\n",
        "# Keep only adequate length\n",
        "train_df = train_df[(train_df.question_len > 3) & (train_df.question_len < 80)]\n",
        "val_df = val_df[(val_df.question_len > 3) & (val_df.question_len < 80)]"
      ],
      "execution_count": 0,
      "outputs": []
    },
    {
      "cell_type": "code",
      "metadata": {
        "id": "v6rtUJTLHW0Q",
        "colab_type": "code",
        "colab": {}
      },
      "source": [
        "# Some initial parameters\n",
        "embed_size = 100\n",
        "max_features = 50000\n",
        "maxlen = 80"
      ],
      "execution_count": 0,
      "outputs": []
    },
    {
      "cell_type": "code",
      "metadata": {
        "id": "fc7xtcslJGV9",
        "colab_type": "code",
        "outputId": "7d8f1887-420c-4fd7-bd9b-8d4b97ee46cc",
        "colab": {
          "base_uri": "https://localhost:8080/",
          "height": 79
        }
      },
      "source": [
        "from keras.preprocessing.text import Tokenizer\n",
        "from keras.preprocessing.sequence import pad_sequences\n",
        "\n",
        "train_X = list(train_df.processed.values)\n",
        "val_X = list(val_df.processed.values)\n",
        "\n",
        "tokenizer = Tokenizer(num_words=max_features)\n",
        "tokenizer.fit_on_texts(train_X)\n",
        "train_X = tokenizer.texts_to_sequences(train_X)\n",
        "val_X = tokenizer.texts_to_sequences(val_X)\n",
        "\n",
        "train_X = pad_sequences(train_X, maxlen=maxlen)\n",
        "val_X = pad_sequences(val_X, maxlen=maxlen)"
      ],
      "execution_count": 0,
      "outputs": [
        {
          "output_type": "stream",
          "text": [
            "Using TensorFlow backend.\n"
          ],
          "name": "stderr"
        },
        {
          "output_type": "display_data",
          "data": {
            "text/html": [
              "<p style=\"color: red;\">\n",
              "The default version of TensorFlow in Colab will soon switch to TensorFlow 2.x.<br>\n",
              "We recommend you <a href=\"https://www.tensorflow.org/guide/migrate\" target=\"_blank\">upgrade</a> now \n",
              "or ensure your notebook will continue to use TensorFlow 1.x via the <code>%tensorflow_version 1.x</code> magic:\n",
              "<a href=\"https://colab.research.google.com/notebooks/tensorflow_version.ipynb\" target=\"_blank\">more info</a>.</p>\n"
            ],
            "text/plain": [
              "<IPython.core.display.HTML object>"
            ]
          },
          "metadata": {
            "tags": []
          }
        }
      ]
    },
    {
      "cell_type": "code",
      "metadata": {
        "id": "6H2QcvJfVOoO",
        "colab_type": "code",
        "colab": {}
      },
      "source": [
        "train_y = train_df['target'].values\n",
        "val_y = val_df['target'].values"
      ],
      "execution_count": 0,
      "outputs": []
    },
    {
      "cell_type": "markdown",
      "metadata": {
        "id": "9dppY6t5mCP7",
        "colab_type": "text"
      },
      "source": [
        "## Learn embeddings"
      ]
    },
    {
      "cell_type": "code",
      "metadata": {
        "id": "7lBDFcuycYPz",
        "colab_type": "code",
        "colab": {}
      },
      "source": [
        "import numpy as np\n",
        "from sklearn.metrics import f1_score\n",
        "from keras.layers import Dense, Input, LSTM, Embedding, Dropout, Activation, CuDNNGRU, Conv1D\n",
        "from keras.layers import Bidirectional, GlobalMaxPool1D\n",
        "from keras.models import Model\n",
        "from keras import initializers, regularizers, constraints, optimizers, layers"
      ],
      "execution_count": 0,
      "outputs": []
    },
    {
      "cell_type": "code",
      "metadata": {
        "id": "seePKRSNf2Sk",
        "colab_type": "code",
        "colab": {}
      },
      "source": [
        "# LSTM\n",
        "\n",
        "inp = Input(shape=(maxlen,))\n",
        "x = Embedding(max_features, embed_size)(inp)\n",
        "x = Bidirectional(layers.LSTM(64))(x)\n",
        "x = Dense(16, activation=\"relu\")(x)\n",
        "x = Dropout(0.1)(x)\n",
        "x = Dense(1, activation=\"sigmoid\")(x)\n",
        "\n",
        "model_lstm = Model(inputs=inp, outputs=x)\n",
        "\n",
        "model_lstm.compile(loss='binary_crossentropy',\n",
        "              optimizer=optimizers.Adam(1e-4),\n",
        "              metrics=['accuracy'])"
      ],
      "execution_count": 0,
      "outputs": []
    },
    {
      "cell_type": "code",
      "metadata": {
        "id": "4obI-HSlbkQR",
        "colab_type": "code",
        "outputId": "b20ca10e-f026-42bf-d3b3-69cb6e3e9c7b",
        "colab": {
          "base_uri": "https://localhost:8080/",
          "height": 350
        }
      },
      "source": [
        "model_lstm.summary()"
      ],
      "execution_count": 0,
      "outputs": [
        {
          "output_type": "stream",
          "text": [
            "Model: \"model_1\"\n",
            "_________________________________________________________________\n",
            "Layer (type)                 Output Shape              Param #   \n",
            "=================================================================\n",
            "input_1 (InputLayer)         (None, 80)                0         \n",
            "_________________________________________________________________\n",
            "embedding_1 (Embedding)      (None, 80, 100)           5000000   \n",
            "_________________________________________________________________\n",
            "bidirectional_1 (Bidirection (None, 128)               84480     \n",
            "_________________________________________________________________\n",
            "dense_1 (Dense)              (None, 16)                2064      \n",
            "_________________________________________________________________\n",
            "dropout_1 (Dropout)          (None, 16)                0         \n",
            "_________________________________________________________________\n",
            "dense_2 (Dense)              (None, 1)                 17        \n",
            "=================================================================\n",
            "Total params: 5,086,561\n",
            "Trainable params: 5,086,561\n",
            "Non-trainable params: 0\n",
            "_________________________________________________________________\n"
          ],
          "name": "stdout"
        }
      ]
    },
    {
      "cell_type": "code",
      "metadata": {
        "id": "gfRxk1c-nNYa",
        "colab_type": "code",
        "outputId": "7e8940c6-5331-4aef-e212-570c5acb2557",
        "colab": {
          "base_uri": "https://localhost:8080/",
          "height": 83
        }
      },
      "source": [
        "model_lstm.fit(train_X, train_y, batch_size=64, epochs=1, validation_data=(val_X, val_y))"
      ],
      "execution_count": 0,
      "outputs": [
        {
          "output_type": "stream",
          "text": [
            "Train on 1183821 samples, validate on 62316 samples\n",
            "Epoch 1/1\n",
            "1183821/1183821 [==============================] - 3859s 3ms/step - loss: 0.1326 - acc: 0.9488 - val_loss: 0.1147 - val_acc: 0.9529\n"
          ],
          "name": "stdout"
        },
        {
          "output_type": "execute_result",
          "data": {
            "text/plain": [
              "<keras.callbacks.History at 0x7f6f79fa2f60>"
            ]
          },
          "metadata": {
            "tags": []
          },
          "execution_count": 34
        }
      ]
    },
    {
      "cell_type": "code",
      "metadata": {
        "id": "LM8Pfi-Nb2e8",
        "colab_type": "code",
        "outputId": "1af724e2-7caa-4c8e-da94-f3affafca766",
        "colab": {
          "base_uri": "https://localhost:8080/",
          "height": 1000
        }
      },
      "source": [
        "prob_lstm = model_lstm.predict([val_X], batch_size=1024, verbose=1)\n",
        "thresholds = dict()\n",
        "for thresh in np.arange(0.1, 0.901, 0.01):\n",
        "    thresh = np.round(thresh, 2)\n",
        "    f_sc = f1_score(val_y, (prob_lstm > thresh).astype(int))\n",
        "    thresholds[f_sc] = thresh\n",
        "    print(\"F1 score at threshold {0} is {1}\".format(thresh, f_sc))"
      ],
      "execution_count": 0,
      "outputs": [
        {
          "output_type": "stream",
          "text": [
            "62316/62316 [==============================] - 5s 84us/step\n",
            "F1 score at threshold 0.1 is 0.5297642206832154\n",
            "F1 score at threshold 0.11 is 0.5392469687300574\n",
            "F1 score at threshold 0.12 is 0.5449052906596996\n",
            "F1 score at threshold 0.13 is 0.5510866849862603\n",
            "F1 score at threshold 0.14 is 0.5562925170068027\n",
            "F1 score at threshold 0.15 is 0.5611087050671286\n",
            "F1 score at threshold 0.16 is 0.5659679408138101\n",
            "F1 score at threshold 0.17 is 0.572223219092051\n",
            "F1 score at threshold 0.18 is 0.5753349740224227\n",
            "F1 score at threshold 0.19 is 0.5797369883311725\n",
            "F1 score at threshold 0.2 is 0.583607791474546\n",
            "F1 score at threshold 0.21 is 0.5868446139180171\n",
            "F1 score at threshold 0.22 is 0.5903567984570878\n",
            "F1 score at threshold 0.23 is 0.5956406998338384\n",
            "F1 score at threshold 0.24 is 0.5995047052996534\n",
            "F1 score at threshold 0.25 is 0.6029323157260494\n",
            "F1 score at threshold 0.26 is 0.6044950676294111\n",
            "F1 score at threshold 0.27 is 0.6069774621796851\n",
            "F1 score at threshold 0.28 is 0.6095138525875589\n",
            "F1 score at threshold 0.29 is 0.612184249628529\n",
            "F1 score at threshold 0.3 is 0.6122492991158076\n",
            "F1 score at threshold 0.31 is 0.6135022940790911\n",
            "F1 score at threshold 0.32 is 0.6144818423383525\n",
            "F1 score at threshold 0.33 is 0.6162320143884892\n",
            "F1 score at threshold 0.34 is 0.6166818596171376\n",
            "F1 score at threshold 0.35 is 0.6196467736349994\n",
            "F1 score at threshold 0.36 is 0.6184456928838952\n",
            "F1 score at threshold 0.37 is 0.6185567010309279\n",
            "F1 score at threshold 0.38 is 0.6166045896912171\n",
            "F1 score at threshold 0.39 is 0.615478218544658\n",
            "F1 score at threshold 0.4 is 0.6137931034482759\n",
            "F1 score at threshold 0.41 is 0.6127383771656488\n",
            "F1 score at threshold 0.42 is 0.6102421796165489\n",
            "F1 score at threshold 0.43 is 0.6086290528465663\n",
            "F1 score at threshold 0.44 is 0.6072811773818744\n",
            "F1 score at threshold 0.45 is 0.6061002749050922\n",
            "F1 score at threshold 0.46 is 0.6036286584558337\n",
            "F1 score at threshold 0.47 is 0.599651987685718\n",
            "F1 score at threshold 0.48 is 0.5966910767561704\n",
            "F1 score at threshold 0.49 is 0.5956456250855813\n",
            "F1 score at threshold 0.5 is 0.5938235701426395\n",
            "F1 score at threshold 0.51 is 0.590743338008415\n",
            "F1 score at threshold 0.52 is 0.587833996588971\n",
            "F1 score at threshold 0.53 is 0.5832373271889402\n",
            "F1 score at threshold 0.54 is 0.5800436999271668\n",
            "F1 score at threshold 0.55 is 0.5735337459475391\n",
            "F1 score at threshold 0.56 is 0.5653995809637833\n",
            "F1 score at threshold 0.57 is 0.5579490291262137\n",
            "F1 score at threshold 0.58 is 0.5487598212910184\n",
            "F1 score at threshold 0.59 is 0.5434375\n",
            "F1 score at threshold 0.6 is 0.5366783105747857\n",
            "F1 score at threshold 0.61 is 0.5274016763378466\n",
            "F1 score at threshold 0.62 is 0.5168797115699771\n",
            "F1 score at threshold 0.63 is 0.5056010700551746\n",
            "F1 score at threshold 0.64 is 0.4948944860449284\n",
            "F1 score at threshold 0.65 is 0.4791811242192921\n",
            "F1 score at threshold 0.66 is 0.46052631578947373\n",
            "F1 score at threshold 0.67 is 0.44048052420822714\n",
            "F1 score at threshold 0.68 is 0.42338484453546826\n",
            "F1 score at threshold 0.69 is 0.4031214312904454\n",
            "F1 score at threshold 0.7 is 0.37794661991038375\n",
            "F1 score at threshold 0.71 is 0.35011990407673854\n",
            "F1 score at threshold 0.72 is 0.3189655172413793\n",
            "F1 score at threshold 0.73 is 0.2868020304568528\n",
            "F1 score at threshold 0.74 is 0.2530984996738421\n",
            "F1 score at threshold 0.75 is 0.22222222222222218\n",
            "F1 score at threshold 0.76 is 0.19326966803092316\n",
            "F1 score at threshold 0.77 is 0.15721950081642172\n",
            "F1 score at threshold 0.78 is 0.12969121140142514\n",
            "F1 score at threshold 0.79 is 0.10528857763825163\n",
            "F1 score at threshold 0.8 is 0.08392638036809816\n",
            "F1 score at threshold 0.81 is 0.06172224987555997\n",
            "F1 score at threshold 0.82 is 0.043806646525679754\n",
            "F1 score at threshold 0.83 is 0.03145611364789447\n",
            "F1 score at threshold 0.84 is 0.017386857581181286\n",
            "F1 score at threshold 0.85 is 0.00976110968404829\n",
            "F1 score at threshold 0.86 is 0.003608247422680412\n",
            "F1 score at threshold 0.87 is 0.0\n",
            "F1 score at threshold 0.88 is 0.0\n",
            "F1 score at threshold 0.89 is 0.0\n",
            "F1 score at threshold 0.9 is 0.0\n"
          ],
          "name": "stdout"
        }
      ]
    },
    {
      "cell_type": "code",
      "metadata": {
        "id": "f-Q3cVvkjy6e",
        "colab_type": "code",
        "outputId": "f288fa41-9266-49d1-9471-93ff0e447f14",
        "colab": {
          "base_uri": "https://localhost:8080/",
          "height": 33
        }
      },
      "source": [
        "# Max F1 score\n",
        "max(thresholds.keys())"
      ],
      "execution_count": 0,
      "outputs": [
        {
          "output_type": "execute_result",
          "data": {
            "text/plain": [
              "0.6196467736349994"
            ]
          },
          "metadata": {
            "tags": []
          },
          "execution_count": 38
        }
      ]
    },
    {
      "cell_type": "code",
      "metadata": {
        "id": "wNGDqpFyfWM6",
        "colab_type": "code",
        "colab": {}
      },
      "source": [
        "# Save the model\n",
        "model_lstm.save_weights(\"model_lstm.h5\")\n",
        "\n",
        "from google.colab import files\n",
        "files.download(\"model_lstm.h5\")"
      ],
      "execution_count": 0,
      "outputs": []
    },
    {
      "cell_type": "code",
      "metadata": {
        "id": "5p6oPaWbY12e",
        "colab_type": "code",
        "outputId": "bf2a9adf-eb14-4a50-f5cd-124ec8fa68df",
        "colab": {
          "base_uri": "https://localhost:8080/",
          "height": 400
        }
      },
      "source": [
        "# GRU network\n",
        "\n",
        "inp = Input(shape=(maxlen,))\n",
        "x = Embedding(max_features, embed_size)(inp)\n",
        "x = Bidirectional(CuDNNGRU(64, return_sequences=True))(x)\n",
        "x = GlobalMaxPool1D()(x)\n",
        "x = Dense(16, activation=\"relu\")(x)\n",
        "x = Dropout(0.25)(x)\n",
        "x = Dense(1, activation=\"sigmoid\")(x)\n",
        "model_gru = Model(inputs=inp, outputs=x)\n",
        "model_gru.compile(loss='binary_crossentropy', optimizer='adam', metrics=['accuracy'])\n",
        "\n",
        "print(model_gru.summary())"
      ],
      "execution_count": 0,
      "outputs": [
        {
          "output_type": "stream",
          "text": [
            "Model: \"model_2\"\n",
            "_________________________________________________________________\n",
            "Layer (type)                 Output Shape              Param #   \n",
            "=================================================================\n",
            "input_2 (InputLayer)         (None, 80)                0         \n",
            "_________________________________________________________________\n",
            "embedding_2 (Embedding)      (None, 80, 100)           5000000   \n",
            "_________________________________________________________________\n",
            "bidirectional_2 (Bidirection (None, 80, 128)           63744     \n",
            "_________________________________________________________________\n",
            "global_max_pooling1d_2 (Glob (None, 128)               0         \n",
            "_________________________________________________________________\n",
            "dense_3 (Dense)              (None, 16)                2064      \n",
            "_________________________________________________________________\n",
            "dropout_2 (Dropout)          (None, 16)                0         \n",
            "_________________________________________________________________\n",
            "dense_4 (Dense)              (None, 1)                 17        \n",
            "=================================================================\n",
            "Total params: 5,065,825\n",
            "Trainable params: 5,065,825\n",
            "Non-trainable params: 0\n",
            "_________________________________________________________________\n",
            "None\n"
          ],
          "name": "stdout"
        }
      ]
    },
    {
      "cell_type": "code",
      "metadata": {
        "id": "nogA9SGFZDAR",
        "colab_type": "code",
        "outputId": "1c202cfc-d435-4798-dfe9-61f48c5554f8",
        "colab": {
          "base_uri": "https://localhost:8080/",
          "height": 117
        }
      },
      "source": [
        "model_gru.fit(train_X, train_y, batch_size=512, epochs=2, validation_data=(val_X, val_y))"
      ],
      "execution_count": 0,
      "outputs": [
        {
          "output_type": "stream",
          "text": [
            "Train on 1183821 samples, validate on 62316 samples\n",
            "Epoch 1/2\n",
            "1183821/1183821 [==============================] - 50s 42us/step - loss: 0.1374 - acc: 0.9494 - val_loss: 0.1113 - val_acc: 0.9553\n",
            "Epoch 2/2\n",
            "1183821/1183821 [==============================] - 49s 42us/step - loss: 0.1114 - acc: 0.9558 - val_loss: 0.1097 - val_acc: 0.9567\n"
          ],
          "name": "stdout"
        },
        {
          "output_type": "execute_result",
          "data": {
            "text/plain": [
              "<keras.callbacks.History at 0x7f6f7a5b90f0>"
            ]
          },
          "metadata": {
            "tags": []
          },
          "execution_count": 25
        }
      ]
    },
    {
      "cell_type": "code",
      "metadata": {
        "id": "0tEKFM0RcX97",
        "colab_type": "code",
        "outputId": "c81e1163-4e2d-474d-8443-912b5b805c86",
        "colab": {
          "base_uri": "https://localhost:8080/",
          "height": 1000
        }
      },
      "source": [
        "prob_gru = model_gru.predict([val_X], batch_size=1024, verbose=1)\n",
        "thresholds = dict()\n",
        "for thresh in np.arange(0.1, 0.99, 0.01):\n",
        "    thresh = np.round(thresh, 2)\n",
        "    f_sc = f1_score(val_y, (prob_gru > thresh).astype(int))\n",
        "    thresholds[f_sc] = thresh\n",
        "    print(\"F1 score at threshold {0} is {1}\".format(thresh, f_sc))"
      ],
      "execution_count": 0,
      "outputs": [
        {
          "output_type": "stream",
          "text": [
            "62316/62316 [==============================] - 1s 9us/step\n",
            "F1 score at threshold 0.1 is 0.5691815746262207\n",
            "F1 score at threshold 0.11 is 0.5765175011076651\n",
            "F1 score at threshold 0.12 is 0.582035494386092\n",
            "F1 score at threshold 0.13 is 0.5879095523765575\n",
            "F1 score at threshold 0.14 is 0.5940203083866115\n",
            "F1 score at threshold 0.15 is 0.5989867125513814\n",
            "F1 score at threshold 0.16 is 0.602971162248762\n",
            "F1 score at threshold 0.17 is 0.6055588409225311\n",
            "F1 score at threshold 0.18 is 0.6095200079832351\n",
            "F1 score at threshold 0.19 is 0.6128444084278768\n",
            "F1 score at threshold 0.2 is 0.61693175987686\n",
            "F1 score at threshold 0.21 is 0.6206466368645389\n",
            "F1 score at threshold 0.22 is 0.6229508196721312\n",
            "F1 score at threshold 0.23 is 0.6238726790450929\n",
            "F1 score at threshold 0.24 is 0.6250536250536252\n",
            "F1 score at threshold 0.25 is 0.6273446817738263\n",
            "F1 score at threshold 0.26 is 0.6298936286873561\n",
            "F1 score at threshold 0.27 is 0.6303312285366124\n",
            "F1 score at threshold 0.28 is 0.6325226941611565\n",
            "F1 score at threshold 0.29 is 0.6332274171584202\n",
            "F1 score at threshold 0.3 is 0.6329433356274375\n",
            "F1 score at threshold 0.31 is 0.6337438996049268\n",
            "F1 score at threshold 0.32 is 0.6357865036444863\n",
            "F1 score at threshold 0.33 is 0.6359414076455877\n",
            "F1 score at threshold 0.34 is 0.6363526423993227\n",
            "F1 score at threshold 0.35 is 0.6393422505828935\n",
            "F1 score at threshold 0.36 is 0.6374581109594142\n",
            "F1 score at threshold 0.37 is 0.6378012048192772\n",
            "F1 score at threshold 0.38 is 0.6376885058927892\n",
            "F1 score at threshold 0.39 is 0.6368528959507945\n",
            "F1 score at threshold 0.4 is 0.6349740932642488\n",
            "F1 score at threshold 0.41 is 0.6329014526894386\n",
            "F1 score at threshold 0.42 is 0.6322051824431518\n",
            "F1 score at threshold 0.43 is 0.6285943560251438\n",
            "F1 score at threshold 0.44 is 0.6242884250474383\n",
            "F1 score at threshold 0.45 is 0.6219178082191781\n",
            "F1 score at threshold 0.46 is 0.6176185866408518\n",
            "F1 score at threshold 0.47 is 0.615771812080537\n",
            "F1 score at threshold 0.48 is 0.6122102882984737\n",
            "F1 score at threshold 0.49 is 0.6094285714285713\n",
            "F1 score at threshold 0.5 is 0.6032067022966922\n",
            "F1 score at threshold 0.51 is 0.5977179637214745\n",
            "F1 score at threshold 0.52 is 0.595354342358337\n",
            "F1 score at threshold 0.53 is 0.5895399370597931\n",
            "F1 score at threshold 0.54 is 0.5843071786310516\n",
            "F1 score at threshold 0.55 is 0.5786646201074445\n",
            "F1 score at threshold 0.56 is 0.5708514605344934\n",
            "F1 score at threshold 0.57 is 0.5649166928638792\n",
            "F1 score at threshold 0.58 is 0.560622914349277\n",
            "F1 score at threshold 0.59 is 0.552390149686142\n",
            "F1 score at threshold 0.6 is 0.5453063885267275\n",
            "F1 score at threshold 0.61 is 0.5361744301288405\n",
            "F1 score at threshold 0.62 is 0.5293724966622163\n",
            "F1 score at threshold 0.63 is 0.5193837819536143\n",
            "F1 score at threshold 0.64 is 0.5080839353285174\n",
            "F1 score at threshold 0.65 is 0.5000870625108829\n",
            "F1 score at threshold 0.66 is 0.48781349346520664\n",
            "F1 score at threshold 0.67 is 0.481039700907958\n",
            "F1 score at threshold 0.68 is 0.4703550189223284\n",
            "F1 score at threshold 0.69 is 0.45918367346938777\n",
            "F1 score at threshold 0.7 is 0.449235304956698\n",
            "F1 score at threshold 0.71 is 0.43792071802543003\n",
            "F1 score at threshold 0.72 is 0.42424242424242425\n",
            "F1 score at threshold 0.73 is 0.4110641567422206\n",
            "F1 score at threshold 0.74 is 0.3993771895679253\n",
            "F1 score at threshold 0.75 is 0.38443303042275784\n",
            "F1 score at threshold 0.76 is 0.3687800963081862\n",
            "F1 score at threshold 0.77 is 0.35514018691588783\n",
            "F1 score at threshold 0.78 is 0.3372549019607844\n",
            "F1 score at threshold 0.79 is 0.32343096234309626\n",
            "F1 score at threshold 0.8 is 0.30085106382978727\n",
            "F1 score at threshold 0.81 is 0.28793103448275864\n",
            "F1 score at threshold 0.82 is 0.27405629500327294\n",
            "F1 score at threshold 0.83 is 0.2529906956136464\n",
            "F1 score at threshold 0.84 is 0.23180592991913748\n",
            "F1 score at threshold 0.85 is 0.2108859029833751\n",
            "F1 score at threshold 0.86 is 0.18803418803418803\n",
            "F1 score at threshold 0.87 is 0.16451839700023438\n",
            "F1 score at threshold 0.88 is 0.14122681883024252\n",
            "F1 score at threshold 0.89 is 0.11585807385952208\n",
            "F1 score at threshold 0.9 is 0.0938875305623472\n",
            "F1 score at threshold 0.91 is 0.07808253026933532\n",
            "F1 score at threshold 0.92 is 0.058529264632316155\n",
            "F1 score at threshold 0.93 is 0.03993933265925177\n",
            "F1 score at threshold 0.94 is 0.027989821882951654\n",
            "F1 score at threshold 0.95 is 0.01841903300076746\n",
            "F1 score at threshold 0.96 is 0.005150656708730363\n",
            "F1 score at threshold 0.97 is 0.0015483870967741937\n",
            "F1 score at threshold 0.98 is 0.0\n"
          ],
          "name": "stdout"
        }
      ]
    },
    {
      "cell_type": "code",
      "metadata": {
        "id": "4Az-XUS9lUJl",
        "colab_type": "code",
        "outputId": "3bec1271-55b1-4342-cb1b-efc923cbe692",
        "colab": {
          "base_uri": "https://localhost:8080/",
          "height": 33
        }
      },
      "source": [
        "# Max F1 score\n",
        "max(thresholds.keys())"
      ],
      "execution_count": 0,
      "outputs": [
        {
          "output_type": "execute_result",
          "data": {
            "text/plain": [
              "0.6393422505828935"
            ]
          },
          "metadata": {
            "tags": []
          },
          "execution_count": 26
        }
      ]
    },
    {
      "cell_type": "code",
      "metadata": {
        "id": "8fUnnzf8mqm5",
        "colab_type": "code",
        "colab": {}
      },
      "source": [
        "# Save the model\n",
        "model_gru.save_weights(\"model_gru.h5\")\n",
        "\n",
        "from google.colab import files\n",
        "files.download(\"model_gru.h5\")"
      ],
      "execution_count": 0,
      "outputs": []
    },
    {
      "cell_type": "markdown",
      "metadata": {
        "id": "jOxW-IE-IwFI",
        "colab_type": "text"
      },
      "source": [
        "## Use pretrained embeddings\n",
        "\n"
      ]
    },
    {
      "cell_type": "code",
      "metadata": {
        "id": "cYsZSNgDrA2h",
        "colab_type": "code",
        "colab": {}
      },
      "source": [
        "import gensim \n",
        "import numpy as np"
      ],
      "execution_count": 0,
      "outputs": []
    },
    {
      "cell_type": "code",
      "metadata": {
        "id": "pcireoPMwBv7",
        "colab_type": "code",
        "outputId": "0a6a44ce-a5a0-497b-b2cf-7559f09f5930",
        "colab": {
          "base_uri": "https://localhost:8080/",
          "height": 33
        }
      },
      "source": [
        "documents = train_df.processed.to_list()\n",
        "\n",
        "w2v_model = gensim.models.Word2Vec (documents, size=embed_size, window=12, min_count=5, workers=10)\n",
        "w2v_model.train(documents,total_examples=len(documents),epochs=10)"
      ],
      "execution_count": 0,
      "outputs": [
        {
          "output_type": "execute_result",
          "data": {
            "text/plain": [
              "(76740014, 89349820)"
            ]
          },
          "metadata": {
            "tags": []
          },
          "execution_count": 16
        }
      ]
    },
    {
      "cell_type": "code",
      "metadata": {
        "id": "V0JlGeF-2Unc",
        "colab_type": "code",
        "colab": {}
      },
      "source": [
        "embedding_matrix = np.zeros((max_features, embed_size))\n",
        "for word, i in tokenizer.word_index.items():\n",
        "    if i >= max_features:\n",
        "        continue\n",
        "    try:\n",
        "      embedding_vector = w2v_model.wv[word]\n",
        "      embedding_matrix[i] = embedding_vector\n",
        "    except KeyError:\n",
        "      continue"
      ],
      "execution_count": 0,
      "outputs": []
    },
    {
      "cell_type": "code",
      "metadata": {
        "id": "1RVD6BIOvOR1",
        "colab_type": "code",
        "outputId": "9e6f39d4-371f-4f2a-cb08-addc4e84da90",
        "colab": {
          "base_uri": "https://localhost:8080/",
          "height": 33
        }
      },
      "source": [
        "# Sanity check\n",
        "np.array_equal(embedding_matrix[4], w2v_model.wv['how'])"
      ],
      "execution_count": 0,
      "outputs": [
        {
          "output_type": "execute_result",
          "data": {
            "text/plain": [
              "True"
            ]
          },
          "metadata": {
            "tags": []
          },
          "execution_count": 40
        }
      ]
    },
    {
      "cell_type": "code",
      "metadata": {
        "id": "eWUCBmYO5hiv",
        "colab_type": "code",
        "outputId": "3eec4760-a47e-48ff-8643-a423ac7659a3",
        "colab": {
          "base_uri": "https://localhost:8080/",
          "height": 620
        }
      },
      "source": [
        "# GRU network\n",
        "\n",
        "inp = Input(shape=(maxlen, ))\n",
        "x = Embedding(max_features, embed_size, weights=[embedding_matrix], trainable=False)(inp)\n",
        "x = Bidirectional(CuDNNGRU(64, return_sequences=True))(x)\n",
        "x = GlobalMaxPool1D()(x)\n",
        "x = Dense(16, activation=\"relu\")(x)\n",
        "x = Dropout(0.1)(x)\n",
        "x = Dense(1, activation=\"sigmoid\")(x)\n",
        "gru_w2v = Model(inputs=inp, outputs=x)\n",
        "gru_w2v.compile(loss='binary_crossentropy', optimizer='adam', metrics=['accuracy'])\n",
        "\n",
        "print(gru_w2v.summary())"
      ],
      "execution_count": 0,
      "outputs": [
        {
          "output_type": "stream",
          "text": [
            "WARNING:tensorflow:From /usr/local/lib/python3.6/dist-packages/keras/backend/tensorflow_backend.py:190: The name tf.get_default_session is deprecated. Please use tf.compat.v1.get_default_session instead.\n",
            "\n",
            "WARNING:tensorflow:From /usr/local/lib/python3.6/dist-packages/keras/backend/tensorflow_backend.py:197: The name tf.ConfigProto is deprecated. Please use tf.compat.v1.ConfigProto instead.\n",
            "\n",
            "WARNING:tensorflow:From /usr/local/lib/python3.6/dist-packages/keras/backend/tensorflow_backend.py:203: The name tf.Session is deprecated. Please use tf.compat.v1.Session instead.\n",
            "\n",
            "WARNING:tensorflow:From /usr/local/lib/python3.6/dist-packages/keras/backend/tensorflow_backend.py:207: The name tf.global_variables is deprecated. Please use tf.compat.v1.global_variables instead.\n",
            "\n",
            "WARNING:tensorflow:From /usr/local/lib/python3.6/dist-packages/keras/backend/tensorflow_backend.py:216: The name tf.is_variable_initialized is deprecated. Please use tf.compat.v1.is_variable_initialized instead.\n",
            "\n",
            "WARNING:tensorflow:From /usr/local/lib/python3.6/dist-packages/keras/backend/tensorflow_backend.py:223: The name tf.variables_initializer is deprecated. Please use tf.compat.v1.variables_initializer instead.\n",
            "\n",
            "Model: \"model_2\"\n",
            "_________________________________________________________________\n",
            "Layer (type)                 Output Shape              Param #   \n",
            "=================================================================\n",
            "input_2 (InputLayer)         (None, 80)                0         \n",
            "_________________________________________________________________\n",
            "embedding_2 (Embedding)      (None, 80, 100)           5000000   \n",
            "_________________________________________________________________\n",
            "bidirectional_2 (Bidirection (None, 80, 128)           63744     \n",
            "_________________________________________________________________\n",
            "global_max_pooling1d_1 (Glob (None, 128)               0         \n",
            "_________________________________________________________________\n",
            "dense_3 (Dense)              (None, 16)                2064      \n",
            "_________________________________________________________________\n",
            "dropout_2 (Dropout)          (None, 16)                0         \n",
            "_________________________________________________________________\n",
            "dense_4 (Dense)              (None, 1)                 17        \n",
            "=================================================================\n",
            "Total params: 5,065,825\n",
            "Trainable params: 65,825\n",
            "Non-trainable params: 5,000,000\n",
            "_________________________________________________________________\n",
            "None\n"
          ],
          "name": "stdout"
        }
      ]
    },
    {
      "cell_type": "code",
      "metadata": {
        "id": "W69eUh6EnTGZ",
        "colab_type": "code",
        "outputId": "905fe57e-fd4d-4606-82bf-1256ac1e99de",
        "colab": {
          "base_uri": "https://localhost:8080/",
          "height": 183
        }
      },
      "source": [
        "gru_w2v.fit(train_X, train_y, batch_size=512, epochs=2, validation_data=(val_X, val_y))"
      ],
      "execution_count": 0,
      "outputs": [
        {
          "output_type": "stream",
          "text": [
            "WARNING:tensorflow:From /usr/local/lib/python3.6/dist-packages/keras/backend/tensorflow_backend.py:1033: The name tf.assign_add is deprecated. Please use tf.compat.v1.assign_add instead.\n",
            "\n",
            "WARNING:tensorflow:From /usr/local/lib/python3.6/dist-packages/keras/backend/tensorflow_backend.py:1020: The name tf.assign is deprecated. Please use tf.compat.v1.assign instead.\n",
            "\n",
            "Train on 1121542 samples, validate on 124595 samples\n",
            "Epoch 1/2\n",
            "1121542/1121542 [==============================] - 39s 35us/step - loss: 0.1229 - acc: 0.9508 - val_loss: 0.1111 - val_acc: 0.9559\n",
            "Epoch 2/2\n",
            "1121542/1121542 [==============================] - 39s 34us/step - loss: 0.1112 - acc: 0.9555 - val_loss: 0.1084 - val_acc: 0.9561\n"
          ],
          "name": "stdout"
        },
        {
          "output_type": "execute_result",
          "data": {
            "text/plain": [
              "<keras.callbacks.History at 0x7f967f372ac8>"
            ]
          },
          "metadata": {
            "tags": []
          },
          "execution_count": 20
        }
      ]
    },
    {
      "cell_type": "code",
      "metadata": {
        "id": "NI8G_uzbn0Z9",
        "colab_type": "code",
        "outputId": "190175c8-9ceb-420a-c758-a7d99d009b0e",
        "colab": {
          "base_uri": "https://localhost:8080/",
          "height": 1000
        }
      },
      "source": [
        "prob_gru_emb = gru_w2v.predict([val_X], batch_size=1024, verbose=1)\n",
        "thresholds = dict()\n",
        "for thresh in np.arange(0.1, 0.99, 0.01):\n",
        "    thresh = np.round(thresh, 2)\n",
        "    f_sc = f1_score(val_y, (prob_gru_emb > thresh).astype(int))\n",
        "    thresholds[f_sc] = thresh\n",
        "    print(\"F1 score at threshold {0} is {1}\".format(thresh, f_sc))"
      ],
      "execution_count": 0,
      "outputs": [
        {
          "output_type": "stream",
          "text": [
            "124595/124595 [==============================] - 1s 9us/step\n",
            "F1 score at threshold 0.1 is 0.5383955049164977\n",
            "F1 score at threshold 0.11 is 0.5493369656664397\n",
            "F1 score at threshold 0.12 is 0.55848313223344\n",
            "F1 score at threshold 0.13 is 0.5672818791946309\n",
            "F1 score at threshold 0.14 is 0.574535491052316\n",
            "F1 score at threshold 0.15 is 0.5809660950386176\n",
            "F1 score at threshold 0.16 is 0.5886490095704429\n",
            "F1 score at threshold 0.17 is 0.5944744363289934\n",
            "F1 score at threshold 0.18 is 0.5989857076994006\n",
            "F1 score at threshold 0.19 is 0.6038638281909405\n",
            "F1 score at threshold 0.2 is 0.6101533479378989\n",
            "F1 score at threshold 0.21 is 0.6142781290727422\n",
            "F1 score at threshold 0.22 is 0.6182672080622279\n",
            "F1 score at threshold 0.23 is 0.6215800188688614\n",
            "F1 score at threshold 0.24 is 0.6246980676328503\n",
            "F1 score at threshold 0.25 is 0.6281606851549755\n",
            "F1 score at threshold 0.26 is 0.6310243297690997\n",
            "F1 score at threshold 0.27 is 0.6335215391049771\n",
            "F1 score at threshold 0.28 is 0.6362001481011319\n",
            "F1 score at threshold 0.29 is 0.6389335046578862\n",
            "F1 score at threshold 0.3 is 0.6398917456021651\n",
            "F1 score at threshold 0.31 is 0.6401835965247802\n",
            "F1 score at threshold 0.32 is 0.6405697879858657\n",
            "F1 score at threshold 0.33 is 0.6421117249846532\n",
            "F1 score at threshold 0.34 is 0.6445609879884961\n",
            "F1 score at threshold 0.35 is 0.6444951511694238\n",
            "F1 score at threshold 0.36 is 0.6449717774449948\n",
            "F1 score at threshold 0.37 is 0.6460661080074488\n",
            "F1 score at threshold 0.38 is 0.6469031233456856\n",
            "F1 score at threshold 0.39 is 0.6467058753638686\n",
            "F1 score at threshold 0.4 is 0.6460208858480374\n",
            "F1 score at threshold 0.41 is 0.6459167576750394\n",
            "F1 score at threshold 0.42 is 0.6461180219376188\n",
            "F1 score at threshold 0.43 is 0.6463271242032304\n",
            "F1 score at threshold 0.44 is 0.6456004496346718\n",
            "F1 score at threshold 0.45 is 0.6450677592184052\n",
            "F1 score at threshold 0.46 is 0.6442662593865341\n",
            "F1 score at threshold 0.47 is 0.6419991006616561\n",
            "F1 score at threshold 0.48 is 0.6414311641171896\n",
            "F1 score at threshold 0.49 is 0.639664987240725\n",
            "F1 score at threshold 0.5 is 0.6387365360470495\n",
            "F1 score at threshold 0.51 is 0.6366125692913912\n",
            "F1 score at threshold 0.52 is 0.6356035064059339\n",
            "F1 score at threshold 0.53 is 0.6338939197930142\n",
            "F1 score at threshold 0.54 is 0.6319988994359611\n",
            "F1 score at threshold 0.55 is 0.6276336833321744\n",
            "F1 score at threshold 0.56 is 0.6238235707262256\n",
            "F1 score at threshold 0.57 is 0.6212336554860717\n",
            "F1 score at threshold 0.58 is 0.6180955120828538\n",
            "F1 score at threshold 0.59 is 0.6139609443310987\n",
            "F1 score at threshold 0.6 is 0.607785314066647\n",
            "F1 score at threshold 0.61 is 0.600791694674733\n",
            "F1 score at threshold 0.62 is 0.5937854388750284\n",
            "F1 score at threshold 0.63 is 0.5866196102501151\n",
            "F1 score at threshold 0.64 is 0.5804745235316997\n",
            "F1 score at threshold 0.65 is 0.5719256623171214\n",
            "F1 score at threshold 0.66 is 0.5637530072173215\n",
            "F1 score at threshold 0.67 is 0.555446836268754\n",
            "F1 score at threshold 0.68 is 0.5433228005987027\n",
            "F1 score at threshold 0.69 is 0.5298841829402317\n",
            "F1 score at threshold 0.7 is 0.5147490081076418\n",
            "F1 score at threshold 0.71 is 0.49360049430664665\n",
            "F1 score at threshold 0.72 is 0.4768843317143371\n",
            "F1 score at threshold 0.73 is 0.4570639668660838\n",
            "F1 score at threshold 0.74 is 0.43381451080290595\n",
            "F1 score at threshold 0.75 is 0.4080921498402866\n",
            "F1 score at threshold 0.76 is 0.38477549806720196\n",
            "F1 score at threshold 0.77 is 0.36019437133022886\n",
            "F1 score at threshold 0.78 is 0.3277188604699522\n",
            "F1 score at threshold 0.79 is 0.2960196350442856\n",
            "F1 score at threshold 0.8 is 0.25831230110830683\n",
            "F1 score at threshold 0.81 is 0.22387387387387386\n",
            "F1 score at threshold 0.82 is 0.18423793542414071\n",
            "F1 score at threshold 0.83 is 0.15468178061164248\n",
            "F1 score at threshold 0.84 is 0.11605087825560266\n",
            "F1 score at threshold 0.85 is 0.08351865579441561\n",
            "F1 score at threshold 0.86 is 0.051843462941990694\n",
            "F1 score at threshold 0.87 is 0.030569354222392053\n",
            "F1 score at threshold 0.88 is 0.014896622576088352\n",
            "F1 score at threshold 0.89 is 0.00671054329590915\n",
            "F1 score at threshold 0.9 is 0.0028456861984219382\n",
            "F1 score at threshold 0.91 is 0.001035866891104493\n",
            "F1 score at threshold 0.92 is 0.00025906735751295336\n",
            "F1 score at threshold 0.93 is 0.0\n",
            "F1 score at threshold 0.94 is 0.0\n",
            "F1 score at threshold 0.95 is 0.0\n",
            "F1 score at threshold 0.96 is 0.0\n",
            "F1 score at threshold 0.97 is 0.0\n",
            "F1 score at threshold 0.98 is 0.0\n"
          ],
          "name": "stdout"
        }
      ]
    },
    {
      "cell_type": "code",
      "metadata": {
        "id": "HrNSEBT4su1R",
        "colab_type": "code",
        "outputId": "a99eacc2-080c-4843-d6a1-d58e73ff18d1",
        "colab": {
          "base_uri": "https://localhost:8080/",
          "height": 33
        }
      },
      "source": [
        "max(thresholds.keys())"
      ],
      "execution_count": 0,
      "outputs": [
        {
          "output_type": "execute_result",
          "data": {
            "text/plain": [
              "0.6469031233456856"
            ]
          },
          "metadata": {
            "tags": []
          },
          "execution_count": 22
        }
      ]
    },
    {
      "cell_type": "code",
      "metadata": {
        "id": "PIcJUOYo5CcY",
        "colab_type": "code",
        "colab": {}
      },
      "source": [
        "# LSTM\n",
        "\n",
        "inp = Input(shape=(maxlen,))\n",
        "x = Embedding(max_features, embed_size, weights=[embedding_matrix], trainable=False)(inp)\n",
        "\n",
        "x = Bidirectional(layers.LSTM(64))(x)\n",
        "x = Dense(16, activation=\"relu\")(x)\n",
        "x = Dropout(0.25)(x)\n",
        "x = Dense(1, activation=\"sigmoid\")(x)\n",
        "\n",
        "lstm_w2v = Model(inputs=inp, outputs=x)\n",
        "\n",
        "lstm_w2v.compile(loss='binary_crossentropy',\n",
        "              optimizer=optimizers.Adam(1e-4),\n",
        "              metrics=['accuracy'])"
      ],
      "execution_count": 0,
      "outputs": []
    },
    {
      "cell_type": "code",
      "metadata": {
        "id": "lRllkBUM09_x",
        "colab_type": "code",
        "outputId": "2ffee2d6-59a7-4a45-ee25-e6e324c4603e",
        "colab": {
          "base_uri": "https://localhost:8080/",
          "height": 83
        }
      },
      "source": [
        "lstm_w2v.fit(train_X, train_y, batch_size=512, epochs=1, validation_data=(val_X, val_y))"
      ],
      "execution_count": 0,
      "outputs": [
        {
          "output_type": "stream",
          "text": [
            "Train on 1121542 samples, validate on 124595 samples\n",
            "Epoch 1/1\n",
            "1121542/1121542 [==============================] - 450s 401us/step - loss: 0.1744 - acc: 0.9321 - val_loss: 0.1228 - val_acc: 0.9514\n"
          ],
          "name": "stdout"
        },
        {
          "output_type": "execute_result",
          "data": {
            "text/plain": [
              "<keras.callbacks.History at 0x7f967f2cda58>"
            ]
          },
          "metadata": {
            "tags": []
          },
          "execution_count": 24
        }
      ]
    },
    {
      "cell_type": "code",
      "metadata": {
        "id": "Sqp1AE8Rpk1M",
        "colab_type": "code",
        "outputId": "bff8653d-6445-4eb6-a5e0-594047e72975",
        "colab": {
          "base_uri": "https://localhost:8080/",
          "height": 1000
        }
      },
      "source": [
        "prob_lstm_w2v_emb = lstm_w2v.predict([val_X], batch_size=1024, verbose=1)\n",
        "thresholds = dict()\n",
        "for thresh in np.arange(0.1, 0.99, 0.01):\n",
        "    thresh = np.round(thresh, 2)\n",
        "    f_sc = f1_score(val_y, (prob_lstm_w2v_emb > thresh).astype(int))\n",
        "    thresholds[f_sc] = thresh\n",
        "    print(\"F1 score at threshold {0} is {1}\".format(thresh, f_sc))"
      ],
      "execution_count": 0,
      "outputs": [
        {
          "output_type": "stream",
          "text": [
            "124595/124595 [==============================] - 10s 79us/step\n",
            "F1 score at threshold 0.1 is 0.47211032976036044\n",
            "F1 score at threshold 0.11 is 0.48255691028261327\n",
            "F1 score at threshold 0.12 is 0.49225523270577143\n",
            "F1 score at threshold 0.13 is 0.5021086023511849\n",
            "F1 score at threshold 0.14 is 0.5105991490014183\n",
            "F1 score at threshold 0.15 is 0.5180121783539581\n",
            "F1 score at threshold 0.16 is 0.5249164081698424\n",
            "F1 score at threshold 0.17 is 0.5317519149987645\n",
            "F1 score at threshold 0.18 is 0.5376063336983071\n",
            "F1 score at threshold 0.19 is 0.5433988220626801\n",
            "F1 score at threshold 0.2 is 0.5480508103372755\n",
            "F1 score at threshold 0.21 is 0.552891270372851\n",
            "F1 score at threshold 0.22 is 0.556789224608664\n",
            "F1 score at threshold 0.23 is 0.5606861381548448\n",
            "F1 score at threshold 0.24 is 0.5659431597862581\n",
            "F1 score at threshold 0.25 is 0.5698888514651398\n",
            "F1 score at threshold 0.26 is 0.5736813751897742\n",
            "F1 score at threshold 0.27 is 0.577547564498456\n",
            "F1 score at threshold 0.28 is 0.5817923906986169\n",
            "F1 score at threshold 0.29 is 0.5845313546658423\n",
            "F1 score at threshold 0.3 is 0.5864598616642214\n",
            "F1 score at threshold 0.31 is 0.5890564228248709\n",
            "F1 score at threshold 0.32 is 0.5912704851533345\n",
            "F1 score at threshold 0.33 is 0.5913416579569833\n",
            "F1 score at threshold 0.34 is 0.5915855432471746\n",
            "F1 score at threshold 0.35 is 0.5928031379682792\n",
            "F1 score at threshold 0.36 is 0.5930891020455333\n",
            "F1 score at threshold 0.37 is 0.5933524825605252\n",
            "F1 score at threshold 0.38 is 0.5930828861061419\n",
            "F1 score at threshold 0.39 is 0.591689414619351\n",
            "F1 score at threshold 0.4 is 0.5926931621821772\n",
            "F1 score at threshold 0.41 is 0.5928481806775409\n",
            "F1 score at threshold 0.42 is 0.5910915694895813\n",
            "F1 score at threshold 0.43 is 0.5883343043956755\n",
            "F1 score at threshold 0.44 is 0.5836791147994468\n",
            "F1 score at threshold 0.45 is 0.5819666644353705\n",
            "F1 score at threshold 0.46 is 0.5770250969189961\n",
            "F1 score at threshold 0.47 is 0.5731876037631433\n",
            "F1 score at threshold 0.48 is 0.5692968255085521\n",
            "F1 score at threshold 0.49 is 0.5650770885622086\n",
            "F1 score at threshold 0.5 is 0.5572859545221905\n",
            "F1 score at threshold 0.51 is 0.5507699174291453\n",
            "F1 score at threshold 0.52 is 0.5436393888972925\n",
            "F1 score at threshold 0.53 is 0.5359094757909322\n",
            "F1 score at threshold 0.54 is 0.5279561472200469\n",
            "F1 score at threshold 0.55 is 0.5171424015308563\n",
            "F1 score at threshold 0.56 is 0.5069116929582046\n",
            "F1 score at threshold 0.57 is 0.496317749275962\n",
            "F1 score at threshold 0.58 is 0.4840013472549681\n",
            "F1 score at threshold 0.59 is 0.47014348311710635\n",
            "F1 score at threshold 0.6 is 0.45730749083289673\n",
            "F1 score at threshold 0.61 is 0.4409167930081155\n",
            "F1 score at threshold 0.62 is 0.4287010159651669\n",
            "F1 score at threshold 0.63 is 0.4112478031634447\n",
            "F1 score at threshold 0.64 is 0.39427063701470033\n",
            "F1 score at threshold 0.65 is 0.37791199309749784\n",
            "F1 score at threshold 0.66 is 0.3609784621381932\n",
            "F1 score at threshold 0.67 is 0.3353281468182725\n",
            "F1 score at threshold 0.68 is 0.31543555781966376\n",
            "F1 score at threshold 0.69 is 0.2966804979253112\n",
            "F1 score at threshold 0.7 is 0.2744432661717922\n",
            "F1 score at threshold 0.71 is 0.2517588483602121\n",
            "F1 score at threshold 0.72 is 0.23065049614112457\n",
            "F1 score at threshold 0.73 is 0.20664040517726506\n",
            "F1 score at threshold 0.74 is 0.18246499885242137\n",
            "F1 score at threshold 0.75 is 0.15702769015071855\n",
            "F1 score at threshold 0.76 is 0.1322707267753063\n",
            "F1 score at threshold 0.77 is 0.10917874396135266\n",
            "F1 score at threshold 0.78 is 0.08610327486814669\n",
            "F1 score at threshold 0.79 is 0.06731246895181321\n",
            "F1 score at threshold 0.8 is 0.05167440110372508\n",
            "F1 score at threshold 0.81 is 0.036488027366020526\n",
            "F1 score at threshold 0.82 is 0.024757529351710057\n",
            "F1 score at threshold 0.83 is 0.0159158002823771\n",
            "F1 score at threshold 0.84 is 0.007993811242908714\n",
            "F1 score at threshold 0.85 is 0.004392764857881136\n",
            "F1 score at threshold 0.86 is 0.0012943308309603934\n",
            "F1 score at threshold 0.87 is 0.0\n",
            "F1 score at threshold 0.88 is 0.0\n",
            "F1 score at threshold 0.89 is 0.0\n",
            "F1 score at threshold 0.9 is 0.0\n",
            "F1 score at threshold 0.91 is 0.0\n",
            "F1 score at threshold 0.92 is 0.0\n",
            "F1 score at threshold 0.93 is 0.0\n",
            "F1 score at threshold 0.94 is 0.0\n",
            "F1 score at threshold 0.95 is 0.0\n",
            "F1 score at threshold 0.96 is 0.0\n",
            "F1 score at threshold 0.97 is 0.0\n",
            "F1 score at threshold 0.98 is 0.0\n"
          ],
          "name": "stdout"
        }
      ]
    },
    {
      "cell_type": "code",
      "metadata": {
        "id": "EZK2oHx5urJo",
        "colab_type": "code",
        "outputId": "977435b3-5e55-41a2-e8c1-746a2351d86a",
        "colab": {
          "base_uri": "https://localhost:8080/",
          "height": 33
        }
      },
      "source": [
        "# Max F1 score\n",
        "max(thresholds.keys())"
      ],
      "execution_count": 0,
      "outputs": [
        {
          "output_type": "execute_result",
          "data": {
            "text/plain": [
              "0.5933524825605252"
            ]
          },
          "metadata": {
            "tags": []
          },
          "execution_count": 26
        }
      ]
    },
    {
      "cell_type": "code",
      "metadata": {
        "id": "4TOTWFY8BIed",
        "colab_type": "code",
        "colab": {}
      },
      "source": [
        "# Bonus content \n",
        "from keras.models import Model, Sequential\n",
        "from keras.layers import Flatten\n",
        "\n",
        "model_ptw2v = Sequential()\n",
        "e = Embedding(max_features, embed_size, weights=[embedding_matrix], input_length=maxlen, trainable=False)\n",
        "model_ptw2v.add(e)\n",
        "model_ptw2v.add(Flatten())\n",
        "model_ptw2v.add(Dense(256, activation='relu'))\n",
        "model_ptw2v.add(Dense(1, activation='sigmoid'))\n",
        "model_ptw2v.compile(loss='binary_crossentropy', optimizer='adam', metrics=['accuracy'])\n",
        "model_ptw2v.fit(train_X, train_y, validation_data=(val_X, val_y), epochs=5, batch_size=32, verbose=2)\n"
      ],
      "execution_count": 0,
      "outputs": []
    }
  ]
}